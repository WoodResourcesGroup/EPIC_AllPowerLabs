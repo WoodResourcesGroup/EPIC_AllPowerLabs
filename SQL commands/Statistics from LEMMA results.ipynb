{
 "cells": [
  {
   "cell_type": "markdown",
   "metadata": {},
   "source": [
    "# This notebook gets the results from the DB to process into histograms and others"
   ]
  },
  {
   "cell_type": "code",
   "execution_count": 1,
   "metadata": {
    "collapsed": true
   },
   "outputs": [],
   "source": [
    "import pandas as pd\n",
    "from sqlalchemy import create_engine"
   ]
  },
  {
   "cell_type": "code",
   "execution_count": 6,
   "metadata": {
    "collapsed": true
   },
   "outputs": [],
   "source": [
    "def connection(user,passwd,dbname, echo_i=False):\n",
    "    str1 = ('postgresql+pg8000://' + user +':' + passw + '@switch-db2.erg.berkeley.edu:5433/' \n",
    "            + dbname + '?ssl=true&sslfactory=org.postgresql.ssl.NonValidatingFactory')\n",
    "    engine = create_engine(str1,echo=echo_i)\n",
    "    return engine"
   ]
  },
  {
   "cell_type": "code",
   "execution_count": 7,
   "metadata": {
    "collapsed": true
   },
   "outputs": [],
   "source": [
    "user = 'jdlara'\n",
    "passw = ''\n",
    "dbname = 'apl_cec' \n",
    "engine= connection(user,passw,dbname)"
   ]
  },
  {
   "cell_type": "code",
   "execution_count": 14,
   "metadata": {
    "collapsed": false
   },
   "outputs": [
    {
     "data": {
      "text/plain": [
       "'set search_path = lemmav2, public;with d_bm_stats as (select min(\"D_BM_kg\")/1000 as min,max(\"D_BM_kg\")/1000 as maxfrom lemmav2.lemma_total where \"D_BM_kg\" > 100)select width_bucket((\"D_BM_kg\")/1000, min, max, 40) as bucket,int4range(min((\"D_BM_kg\")/1000)::INT, max((\"D_BM_kg\")/1000)::INT, \\'[]\\') as range,count(*) as freqfrom lemmav2.lemma_total, d_bm_stats where \"D_BM_kg\" > 100group by bucketorder by bucket;'"
      ]
     },
     "execution_count": 14,
     "metadata": {},
     "output_type": "execute_result"
    }
   ],
   "source": [
    "query = ('set search_path = lemmav2, public;' +\n",
    "        'with d_bm_stats as ('+\n",
    "            'select min(\"D_BM_kg\")/1000 as min,' +\n",
    "                   'max(\"D_BM_kg\")/1000 as max' +\n",
    "              'from lemmav2.lemma_total where \"D_BM_kg\" > 100)' +\n",
    "            'select width_bucket((\"D_BM_kg\")/1000, min, max, 40) as bucket,' +\n",
    "                    'int4range(min((\"D_BM_kg\")/1000)::INT, max((\"D_BM_kg\")/1000)::INT, \\'[]\\') as range,' +\n",
    "                    'count(*) as freq' +\n",
    "                'from lemmav2.lemma_total, d_bm_stats where \"D_BM_kg\" > 100' +\n",
    "            'group by bucket' +\n",
    "            'order by bucket;')\n",
    "query"
   ]
  },
  {
   "cell_type": "code",
   "execution_count": 8,
   "metadata": {
    "collapsed": false
   },
   "outputs": [],
   "source": [
    "result = pd.read_sql_query(query,engine)"
   ]
  },
  {
   "cell_type": "code",
   "execution_count": 9,
   "metadata": {
    "collapsed": false
   },
   "outputs": [
    {
     "data": {
      "text/html": [
       "<div>\n",
       "<table border=\"1\" class=\"dataframe\">\n",
       "  <thead>\n",
       "    <tr style=\"text-align: right;\">\n",
       "      <th></th>\n",
       "      <th>count</th>\n",
       "    </tr>\n",
       "  </thead>\n",
       "  <tbody>\n",
       "    <tr>\n",
       "      <th>0</th>\n",
       "      <td>27949</td>\n",
       "    </tr>\n",
       "  </tbody>\n",
       "</table>\n",
       "</div>"
      ],
      "text/plain": [
       "   count\n",
       "0  27949"
      ]
     },
     "execution_count": 9,
     "metadata": {},
     "output_type": "execute_result"
    }
   ],
   "source": []
  },
  {
   "cell_type": "code",
   "execution_count": null,
   "metadata": {
    "collapsed": true
   },
   "outputs": [],
   "source": []
  }
 ],
 "metadata": {
  "kernelspec": {
   "display_name": "Python 2",
   "language": "python",
   "name": "python2"
  },
  "language_info": {
   "codemirror_mode": {
    "name": "ipython",
    "version": 2
   },
   "file_extension": ".py",
   "mimetype": "text/x-python",
   "name": "python",
   "nbconvert_exporter": "python",
   "pygments_lexer": "ipython2",
   "version": "2.7.10"
  }
 },
 "nbformat": 4,
 "nbformat_minor": 0
}
