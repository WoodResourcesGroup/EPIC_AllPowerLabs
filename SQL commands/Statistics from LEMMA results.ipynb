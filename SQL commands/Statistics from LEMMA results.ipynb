{
 "cells": [
  {
   "cell_type": "markdown",
   "metadata": {},
   "source": [
    "# This notebook gets the results from the DB to process into histograms and others"
   ]
  },
  {
   "cell_type": "code",
   "execution_count": 7,
   "metadata": {
    "collapsed": true
   },
   "outputs": [],
   "source": [
    "import pandas as pd\n",
    "from sqlalchemy import create_engine\n",
    "import matplotlib.pyplot as plt\n",
    "%matplotlib inline"
   ]
  },
  {
   "cell_type": "code",
   "execution_count": 8,
   "metadata": {
    "collapsed": true
   },
   "outputs": [],
   "source": [
    "def connection(user,passwd,dbname, echo_i=False):\n",
    "    str1 = ('postgresql+pg8000://' + user +':' + passw + '@switch-db2.erg.berkeley.edu:5433/' \n",
    "            + dbname + '?ssl=true&sslfactory=org.postgresql.ssl.NonValidatingFactory')\n",
    "    engine = create_engine(str1,echo=echo_i)\n",
    "    return engine"
   ]
  },
  {
   "cell_type": "code",
   "execution_count": 9,
   "metadata": {
    "collapsed": true
   },
   "outputs": [],
   "source": [
    "user = 'jdlara'\n",
    "passw = 'Amadeus-2010'\n",
    "dbname = 'apl_cec' \n",
    "engine= connection(user,passw,dbname)"
   ]
  },
  {
   "cell_type": "code",
   "execution_count": 3,
   "metadata": {
    "collapsed": false
   },
   "outputs": [],
   "source": [
    "for year in ['2012', '2013', '2014', '2015']:\n",
    "    query_hist = ('with d_bm_stats as ('+\n",
    "                'select min(\"D_BM_kg_sum\")/1000 as min, ' +\n",
    "                       'max(\"D_BM_kg_sum\")/1000 as max ' +\n",
    "                  'from lemmav2.lemma_1215 where \"D_BM_kg\" > 100 and \"RPT_YR\" = ' + year + ') ' +\n",
    "                'select width_bucket((\"D_BM_kg\")/1000, min, max, 40) as bucket, ' +\n",
    "                        'int4range(min((\"D_BM_kg\")/1000)::INT, max((\"D_BM_kg\")/1000)::INT, \\'[]\\') as range, ' +\n",
    "                        'count(*) as freq ' +\n",
    "                    'from lemmav2.lemma_1215, d_bm_stats where \"D_BM_kg\" > 100 and \"RPT_YR\" = ' + year +\n",
    "                ' group by bucket ' +\n",
    "                'order by bucket;')"
   ]
  },
  {
   "cell_type": "code",
   "execution_count": 15,
   "metadata": {
    "collapsed": false
   },
   "outputs": [],
   "source": [
    "def lemma_stats(engine):\n",
    "\n",
    "    for year in ['2012', '2013', '2014', '2015']:\n",
    "        query_hist = ('with d_bm_stats as ('+\n",
    "                    'select min(\"D_BM_kg\")/1000 as min, ' +\n",
    "                           'max(\"D_BM_kg\")/1000 as max ' +\n",
    "                      'from lemmav2.lemma_1215 where \"D_BM_kg\" > 100 and \"RPT_YR\" = ' + year + ') ' +\n",
    "                    'select width_bucket((\"D_BM_kg\")/1000, min, max, 40) as bucket, ' +\n",
    "                            'int4range(min((\"D_BM_kg\")/1000)::INT, max((\"D_BM_kg\")/1000)::INT, \\'[]\\') as range, ' +\n",
    "                            'count(*) as freq ' +\n",
    "                        'from lemmav2.lemma_1215, d_bm_stats where \"D_BM_kg\" > 100 and \"RPT_YR\" = ' + year +\n",
    "                    ' group by bucket ' +\n",
    "                    'order by bucket;')\n",
    "        query_sum = ('')\n",
    "    "
   ]
  },
  {
   "cell_type": "code",
   "execution_count": 16,
   "metadata": {
    "collapsed": false
   },
   "outputs": [],
   "source": [
    "query = ('with d_bm_stats as ('+\n",
    "            'select min(\"D_BM_kg_sum\")/1000 as min, ' +\n",
    "                   'max(\"D_BM_kg_sum\")/1000 as max ' +\n",
    "              'from lemmav2.lemma_total where \"D_BM_kg_sum\" > 100) ' +\n",
    "            'select width_bucket((\"D_BM_kg_sum\")/1000, min, max, 10) as bucket, ' +\n",
    "                    'int4range(min((\"D_BM_kg_sum\")/1000)::INT, max((\"D_BM_kg_sum\")/1000)::INT, \\'[]\\') as range, ' +\n",
    "                    'count(*) as freq ' +\n",
    "                'from lemmav2.lemma_total, d_bm_stats where \"D_BM_kg_sum\" > 100 ' +\n",
    "            'group by bucket ' +\n",
    "            'order by bucket;')\n",
    "result = pd.read_sql_query(query,engine)"
   ]
  },
  {
   "cell_type": "code",
   "execution_count": 17,
   "metadata": {
    "collapsed": false
   },
   "outputs": [
    {
     "data": {
      "image/png": "[encoded data removed]",
      "text/plain": [
       "<matplotlib.figure.Figure at 0x10a437190>"
      ]
     },
     "metadata": {},
     "output_type": "display_data"
    }
   ],
   "source": [
    "plot_2012 = result.freq.plot(kind='bar', logy = True)\n",
    "plot_2012.set_xticklabels(result.range);"
   ]
  },
  {
   "cell_type": "code",
   "execution_count": 18,
   "metadata": {
    "collapsed": false
   },
   "outputs": [
    {
     "data": {
      "text/html": [
       "<div>\n",
       "<table border=\"1\" class=\"dataframe\">\n",
       "  <thead>\n",
       "    <tr style=\"text-align: right;\">\n",
       "      <th></th>\n",
       "      <th>bucket</th>\n",
       "      <th>range</th>\n",
       "      <th>freq</th>\n",
       "    </tr>\n",
       "  </thead>\n",
       "  <tbody>\n",
       "    <tr>\n",
       "      <th>0</th>\n",
       "      <td>1</td>\n",
       "      <td>[0,20)</td>\n",
       "      <td>23499405</td>\n",
       "    </tr>\n",
       "    <tr>\n",
       "      <th>1</th>\n",
       "      <td>2</td>\n",
       "      <td>[19,40)</td>\n",
       "      <td>546635</td>\n",
       "    </tr>\n",
       "    <tr>\n",
       "      <th>2</th>\n",
       "      <td>3</td>\n",
       "      <td>[39,59)</td>\n",
       "      <td>53473</td>\n",
       "    </tr>\n",
       "    <tr>\n",
       "      <th>3</th>\n",
       "      <td>4</td>\n",
       "      <td>[58,78)</td>\n",
       "      <td>11509</td>\n",
       "    </tr>\n",
       "    <tr>\n",
       "      <th>4</th>\n",
       "      <td>5</td>\n",
       "      <td>[77,97)</td>\n",
       "      <td>7844</td>\n",
       "    </tr>\n",
       "    <tr>\n",
       "      <th>5</th>\n",
       "      <td>6</td>\n",
       "      <td>[96,117)</td>\n",
       "      <td>3444</td>\n",
       "    </tr>\n",
       "    <tr>\n",
       "      <th>6</th>\n",
       "      <td>7</td>\n",
       "      <td>[116,136)</td>\n",
       "      <td>1598</td>\n",
       "    </tr>\n",
       "    <tr>\n",
       "      <th>7</th>\n",
       "      <td>8</td>\n",
       "      <td>[135,155)</td>\n",
       "      <td>458</td>\n",
       "    </tr>\n",
       "    <tr>\n",
       "      <th>8</th>\n",
       "      <td>9</td>\n",
       "      <td>[159,173)</td>\n",
       "      <td>130</td>\n",
       "    </tr>\n",
       "    <tr>\n",
       "      <th>9</th>\n",
       "      <td>10</td>\n",
       "      <td>[181,193)</td>\n",
       "      <td>71</td>\n",
       "    </tr>\n",
       "    <tr>\n",
       "      <th>10</th>\n",
       "      <td>11</td>\n",
       "      <td>[193,194)</td>\n",
       "      <td>428</td>\n",
       "    </tr>\n",
       "  </tbody>\n",
       "</table>\n",
       "</div>"
      ],
      "text/plain": [
       "    bucket      range      freq\n",
       "0        1     [0,20)  23499405\n",
       "1        2    [19,40)    546635\n",
       "2        3    [39,59)     53473\n",
       "3        4    [58,78)     11509\n",
       "4        5    [77,97)      7844\n",
       "5        6   [96,117)      3444\n",
       "6        7  [116,136)      1598\n",
       "7        8  [135,155)       458\n",
       "8        9  [159,173)       130\n",
       "9       10  [181,193)        71\n",
       "10      11  [193,194)       428"
      ]
     },
     "execution_count": 18,
     "metadata": {},
     "output_type": "execute_result"
    }
   ],
   "source": [
    "result"
   ]
  },
  {
   "cell_type": "code",
   "execution_count": null,
   "metadata": {
    "collapsed": true
   },
   "outputs": [],
   "source": []
  }
 ],
 "metadata": {
  "kernelspec": {
   "display_name": "Python 2",
   "language": "python",
   "name": "python2"
  },
  "language_info": {
   "codemirror_mode": {
    "name": "ipython",
    "version": 2
   },
   "file_extension": ".py",
   "mimetype": "text/x-python",
   "name": "python",
   "nbconvert_exporter": "python",
   "pygments_lexer": "ipython2",
   "version": "2.7.10"
  }
 },
 "nbformat": 4,
 "nbformat_minor": 0
}
