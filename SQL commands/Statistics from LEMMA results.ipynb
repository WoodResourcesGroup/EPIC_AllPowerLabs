{
 "cells": [
  {
   "cell_type": "markdown",
   "metadata": {},
   "source": [
    "# This notebook gets the results from the DB to process into histograms and others"
   ]
  },
  {
   "cell_type": "code",
   "execution_count": 2,
   "metadata": {
    "collapsed": true
   },
   "outputs": [],
   "source": [
    "import pandas as pd\n",
    "from sqlalchemy import create_engine\n",
    "import matplotlib.pyplot as plt\n",
    "%matplotlib inline"
   ]
  },
  {
   "cell_type": "code",
   "execution_count": 3,
   "metadata": {
    "collapsed": true
   },
   "outputs": [],
   "source": [
    "def connection(user,passwd,dbname, echo_i=False):\n",
    "    str1 = ('postgresql+pg8000://' + user +':' + passw + '@switch-db2.erg.berkeley.edu:5433/' \n",
    "            + dbname + '?ssl=true&sslfactory=org.postgresql.ssl.NonValidatingFactory')\n",
    "    engine = create_engine(str1,echo=echo_i)\n",
    "    return engine"
   ]
  },
  {
   "cell_type": "code",
   "execution_count": 4,
   "metadata": {
    "collapsed": true
   },
   "outputs": [],
   "source": [
    "user = 'jdlara'\n",
    "passw = 'Amadeus-2010'\n",
    "dbname = 'apl_cec' \n",
    "engine= connection(user,passw,dbname)"
   ]
  },
  {
   "cell_type": "code",
   "execution_count": 17,
   "metadata": {
    "collapsed": false
   },
   "outputs": [
    {
     "name": "stdout",
     "output_type": "stream",
     "text": [
      "with d_bm_stats as (select min(\"D_BM_kg\")/1000 as min, max(\"D_BM_kg\")/1000 as max from lemmav2.lemma_1215 where \"D_BM_kg\" > 100 and \"RPT_YR\" = 2012) select width_bucket((\"D_BM_kg\")/1000, min, max, 40) as bucket, int4range(min((\"D_BM_kg\")/1000)::INT, max((\"D_BM_kg\")/1000)::INT, '[]') as range, count(*) as freq from lemmav2.lemma_1215, d_bm_stats where \"D_BM_kg\" > 100 and \"RPT_YR\" = 2012 group by bucket order by bucket;\n",
      "with d_bm_stats as (select min(\"D_BM_kg\")/1000 as min, max(\"D_BM_kg\")/1000 as max from lemmav2.lemma_1215 where \"D_BM_kg\" > 100 and \"RPT_YR\" = 2013) select width_bucket((\"D_BM_kg\")/1000, min, max, 40) as bucket, int4range(min((\"D_BM_kg\")/1000)::INT, max((\"D_BM_kg\")/1000)::INT, '[]') as range, count(*) as freq from lemmav2.lemma_1215, d_bm_stats where \"D_BM_kg\" > 100 and \"RPT_YR\" = 2013 group by bucket order by bucket;\n",
      "with d_bm_stats as (select min(\"D_BM_kg\")/1000 as min, max(\"D_BM_kg\")/1000 as max from lemmav2.lemma_1215 where \"D_BM_kg\" > 100 and \"RPT_YR\" = 2014) select width_bucket((\"D_BM_kg\")/1000, min, max, 40) as bucket, int4range(min((\"D_BM_kg\")/1000)::INT, max((\"D_BM_kg\")/1000)::INT, '[]') as range, count(*) as freq from lemmav2.lemma_1215, d_bm_stats where \"D_BM_kg\" > 100 and \"RPT_YR\" = 2014 group by bucket order by bucket;\n",
      "with d_bm_stats as (select min(\"D_BM_kg\")/1000 as min, max(\"D_BM_kg\")/1000 as max from lemmav2.lemma_1215 where \"D_BM_kg\" > 100 and \"RPT_YR\" = 2015) select width_bucket((\"D_BM_kg\")/1000, min, max, 40) as bucket, int4range(min((\"D_BM_kg\")/1000)::INT, max((\"D_BM_kg\")/1000)::INT, '[]') as range, count(*) as freq from lemmav2.lemma_1215, d_bm_stats where \"D_BM_kg\" > 100 and \"RPT_YR\" = 2015 group by bucket order by bucket;\n"
     ]
    }
   ],
   "source": [
    "for year in ['2012', '2013', '2014', '2015']:\n",
    "    query_hist = ('with d_bm_stats as ('+\n",
    "                'select min(\"D_BM_kg\")/1000 as min, ' +\n",
    "                       'max(\"D_BM_kg\")/1000 as max ' +\n",
    "                  'from lemmav2.lemma_1215 where \"D_BM_kg\" > 100 and \"RPT_YR\" = ' + year + ') ' +\n",
    "                'select width_bucket((\"D_BM_kg\")/1000, min, max, 40) as bucket, ' +\n",
    "                        'int4range(min((\"D_BM_kg\")/1000)::INT, max((\"D_BM_kg\")/1000)::INT, \\'[]\\') as range, ' +\n",
    "                        'count(*) as freq ' +\n",
    "                    'from lemmav2.lemma_1215, d_bm_stats where \"D_BM_kg\" > 100 and \"RPT_YR\" = ' + year +\n",
    "                ' group by bucket ' +\n",
    "                'order by bucket;')"
   ]
  },
  {
   "cell_type": "code",
   "execution_count": 15,
   "metadata": {
    "collapsed": false
   },
   "outputs": [],
   "source": [
    "def lemma_stats(engine):\n",
    "\n",
    "    for year in ['2012', '2013', '2014', '2015']:\n",
    "        query_hist = ('with d_bm_stats as ('+\n",
    "                    'select min(\"D_BM_kg\")/1000 as min, ' +\n",
    "                           'max(\"D_BM_kg\")/1000 as max ' +\n",
    "                      'from lemmav2.lemma_1215 where \"D_BM_kg\" > 100 and \"RPT_YR\" = ' + year + ') ' +\n",
    "                    'select width_bucket((\"D_BM_kg\")/1000, min, max, 40) as bucket, ' +\n",
    "                            'int4range(min((\"D_BM_kg\")/1000)::INT, max((\"D_BM_kg\")/1000)::INT, \\'[]\\') as range, ' +\n",
    "                            'count(*) as freq ' +\n",
    "                        'from lemmav2.lemma_1215, d_bm_stats where \"D_BM_kg\" > 100 and \"RPT_YR\" = ' + year +\n",
    "                    ' group by bucket ' +\n",
    "                    'order by bucket;')\n",
    "        query_sum = ('')\n",
    "    "
   ]
  },
  {
   "cell_type": "code",
   "execution_count": 6,
   "metadata": {
    "collapsed": false
   },
   "outputs": [],
   "source": [
    "result = pd.read_sql_query(query,engine)"
   ]
  },
  {
   "cell_type": "code",
   "execution_count": 18,
   "metadata": {
    "collapsed": false
   },
   "outputs": [
    {
     "data": {
      "image/png": "[encoded data removed]",
      "text/plain": [
       "<matplotlib.figure.Figure at 0x10f016250>"
      ]
     },
     "metadata": {},
     "output_type": "display_data"
    }
   ],
   "source": [
    "plot_2012 = result.freq.plot(kind='bar', logy = True)\n",
    "plot_2012.set_xticklabels(result.range);"
   ]
  },
  {
   "cell_type": "code",
   "execution_count": 25,
   "metadata": {
    "collapsed": true
   },
   "outputs": [],
   "source": [
    "query = ('with d_bm_stats as ('+\n",
    "            'select min(\"D_BM_kg\")/1000 as min, ' +\n",
    "                   'max(\"D_BM_kg\")/1000 as max ' +\n",
    "              'from lemmav2.lemma_1215 where \"D_BM_kg\" > 100 and \"RPT_YR\" = 2013) ' +\n",
    "            'select width_bucket((\"D_BM_kg\")/1000, min, max, 40) as bucket, ' +\n",
    "                    'int4range(min((\"D_BM_kg\")/1000)::INT, max((\"D_BM_kg\")/1000)::INT, \\'[]\\') as range, ' +\n",
    "                    'count(*) as freq ' +\n",
    "                'from lemmav2.lemma_1215, d_bm_stats where \"D_BM_kg\" > 100 and \"RPT_YR\" = 2013 ' +\n",
    "            'group by bucket ' +\n",
    "            'order by bucket;')"
   ]
  },
  {
   "cell_type": "code",
   "execution_count": null,
   "metadata": {
    "collapsed": true
   },
   "outputs": [],
   "source": []
  }
 ],
 "metadata": {
  "kernelspec": {
   "display_name": "Python 2",
   "language": "python",
   "name": "python2"
  },
  "language_info": {
   "codemirror_mode": {
    "name": "ipython",
    "version": 2
   },
   "file_extension": ".py",
   "mimetype": "text/x-python",
   "name": "python",
   "nbconvert_exporter": "python",
   "pygments_lexer": "ipython2",
   "version": "2.7.10"
  }
 },
 "nbformat": 4,
 "nbformat_minor": 0
}
